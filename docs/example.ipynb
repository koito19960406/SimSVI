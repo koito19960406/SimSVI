{
    "cells": [
        {
            "cell_type": "markdown",
            "metadata": {},
            "source": [
                "# Example usage\n",
                "\n",
                "To use `simsvi` in a project:"
            ]
        },
        {
            "cell_type": "code",
            "execution_count": 20,
            "metadata": {},
            "outputs": [
                {
                    "name": "stdout",
                    "output_type": "stream",
                    "text": [
                        "0.1.0\n"
                    ]
                }
            ],
            "source": [
                "import simsvi\n",
                "import pandas as pd\n",
                "\n",
                "print(simsvi.__version__)"
            ]
        },
        {
            "cell_type": "code",
            "execution_count": 21,
            "metadata": {},
            "outputs": [
                {
                    "name": "stderr",
                    "output_type": "stream",
                    "text": [
                        "Running simulations:  38%|███▊      | 3816/10000 [19:48<1:39:30,  1.04it/s] "
                    ]
                }
            ],
            "source": [
                "# test the following parameters\n",
                "# tree_change: [-0.1], [-0.2], [-0.3], [-0.4], [-0.5], [-0.6], [-0.7], [-0.8], [-0.9], [-1]\n",
                "# camera_position_range: 1, 2, 3, 4, 5, 6, 7, 8, 9, 10\n",
                "# seed: range(100)\n",
                "parameters_list = []\n",
                "for tree_change in [-0.1, -0.2, -0.3, -0.4, -0.5, -0.6, -0.7, -0.8, -0.9, -1]:\n",
                "    for camera_position_range in range(1, 11):\n",
                "        for seed in range(100):\n",
                "            parameters_list.append({\n",
                "                'tree_ratio': 0.5,\n",
                "                'tree_change': [tree_change],\n",
                "                'camera_position_range': camera_position_range,\n",
                "                'months_of_interest': [7],\n",
                "                'seed': seed\n",
                "            })\n",
                "greenery_dict_list = simsvi.run_multiple_simulations(parameters_list, max_workers=300)\n",
                "# convert the results to df\n",
                "greenery_df = pd.DataFrame(greenery_dict_list)\n",
                "# save the results to a csv file\n",
                "greenery_df.to_csv('docs/greenery_results.csv', index=False)"
            ]
        },
        {
            "cell_type": "code",
            "execution_count": null,
            "metadata": {},
            "outputs": [],
            "source": [
                "def plot_greenery_results(greenery_df, output_file, tree_change, camera_position_range):\n",
                "    import matplotlib.pyplot as plt\n",
                "    import seaborn as sns\n",
                "    import os\n",
                "    # plot the results\n",
                "    fig, ax = plt.subplots()\n",
                "    # use violin plot to show the distribution of diff column\n",
                "    sns.violinplot(x='year', y='green_view_index', data=greenery_df, ax=ax)\n",
                "    ax.set_xlabel('Year')\n",
                "    ax.set_ylabel('Green View Index')\n",
                "    ax.set_title(f'Green View Index Distribution\\nTree Change: {tree_change}, Camera Position Range: {camera_position_range}')\n",
                "    # save the plot\n",
                "    fig.savefig(output_file)\n",
                "    \n",
                "\n",
                "def run_t_test(greenery_df):\n",
                "    # run single sample t-test to see if the mean greenery is significantly different from 0\n",
                "    greenery_mean = greenery_df['greenery'].mean()\n",
                "    # run t-test\n",
                "    from scipy.stats import ttest_1samp\n",
                "    t_stat, p_value = ttest_1samp(greenery_df['greenery'], 0, alternative='less')\n",
                "    return greenery_mean, t_stat, p_value"
            ]
        },
        {
            "cell_type": "code",
            "execution_count": null,
            "metadata": {},
            "outputs": [],
            "source": [
                "# conduct statistical analysis\n",
                "greenery_df = pd.read_csv('docs/greenery_results.csv')\n",
                "t_test_results_list = []\n",
                "for tree_change in [-0.1, -0.2, -0.3, -0.4, -0.5, -0.6, -0.7, -0.8, -0.9, -1]:\n",
                "    for camera_position_range in range(1, 11):\n",
                "        # filter the results\n",
                "        filtered_df = greenery_df[(greenery_df['tree_change'] == f\"[{tree_change}]\") & (greenery_df['camera_position_range'] == camera_position_range)]\n",
                "        # get the mean camera_postion_y and min camera_position_x\n",
                "        camera_position_y_mean = filtered_df['camera_position_y'].mean()\n",
                "        camera_position_x_mean = filtered_df['camera_position_x'].mean()\n",
                "        camera_position_y_min = filtered_df['camera_position_y'].min()\n",
                "        camera_position_x_min = filtered_df['camera_position_x'].min()\n",
                "        # filter filtered_df to only include the results with the mean camera_position_y and min camera_position_x in year 1 and\n",
                "        # camera_position_x_mean and camera_position_y_mean in year 2\n",
                "        filtered_df = filtered_df[\n",
                "            ((filtered_df['camera_position_y'] == camera_position_y_mean) & (filtered_df['camera_position_x'] == camera_position_x_mean)) & (filtered_df['year'] == 1)|\n",
                "            ((filtered_df['camera_position_y'] == camera_position_y_min) & (filtered_df['camera_position_x'] == camera_position_x_min)) & (filtered_df['year'] == 2)\n",
                "        ]\n",
                "        # convert to wide format\n",
                "        wide_df = filtered_df.pivot(index='seed', columns='year', values='green_view_index')\n",
                "        # calculate the difference between year 1 and year 2\n",
                "        wide_df['diff'] = wide_df[2] - wide_df[1]\n",
                "        # run t-test (single sample t-test)\n",
                "        greenery_mean, t_stat, p_value = run_t_test(wide_df)\n",
                "        # append the results to t_test_results_list\n",
                "        t_test_results_list.append({\n",
                "            'tree_change': tree_change,\n",
                "            'camera_position_range': camera_position_range,\n",
                "            'greenery_mean': greenery_mean,\n",
                "            't_stat': t_stat,\n",
                "            'p_value': p_value,\n",
                "            'significant': p_value < 0.05,\n",
                "        })\n",
                "        # plot the results\n",
                "        output_file = f'figures/tree_change_{tree_change}_camera_position_range_{camera_position_range}.png'\n",
                "        plot_greenery_results(filtered_df, output_file)\n",
                "# convert the results to df and save to a csv file\n",
                "t_test_results_df = pd.DataFrame(t_test_results_list)\n",
                "t_test_results_df.to_csv('docs/t_test_results.csv', index=False)"
            ]
        },
        {
            "cell_type": "code",
            "execution_count": null,
            "metadata": {},
            "outputs": [],
            "source": []
        }
    ],
    "metadata": {
        "kernelspec": {
            "display_name": "Python 3",
            "language": "python",
            "name": "python3"
        },
        "language_info": {
            "codemirror_mode": {
                "name": "ipython",
                "version": 3
            },
            "file_extension": ".py",
            "mimetype": "text/x-python",
            "name": "python",
            "nbconvert_exporter": "python",
            "pygments_lexer": "ipython3",
            "version": "3.11.7"
        }
    },
    "nbformat": 4,
    "nbformat_minor": 4
}
